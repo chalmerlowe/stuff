{
 "cells": [
  {
   "cell_type": "markdown",
   "metadata": {},
   "source": [
    "# Welcome to the Dark Art of Coding:\n",
    "## Introduction to Python\n",
    "`itertools`\n",
    "\n",
    "<img src='../../images/dark_art_logo.600px.png' width='300' style=\"float:right\">"
   ]
  },
  {
   "cell_type": "markdown",
   "metadata": {},
   "source": [
    "# Objectives\n",
    "---"
   ]
  },
  {
   "cell_type": "markdown",
   "metadata": {},
   "source": [
    "In this session, we should expect to:\n",
    "\n",
    "* Understand the purpose of the itertools library\n",
    "* Explore the functions available in the itertools library\n",
    "* Use some of the itertools functions to solve practical data analysis/manipulation examples\n"
   ]
  },
  {
   "cell_type": "markdown",
   "metadata": {},
   "source": [
    "# `itertools` module \n",
    "---"
   ]
  },
  {
   "cell_type": "markdown",
   "metadata": {},
   "source": [
    "The itertools module includes 16 functions blah, blah, blah\n",
    "\n",
    "```\n",
    "accumulate\n",
    "chain\n",
    "combinations\n",
    "combinations_with_replacement \n",
    "compress\n",
    "count\n",
    "cycle\n",
    "dropwhile\n",
    "filterfalse\n",
    "groupby\n",
    "islice\n",
    "product\n",
    "repeat\n",
    "starmap\n",
    "tee\n",
    "zip_longest\n",
    "```"
   ]
  },
  {
   "cell_type": "code",
   "execution_count": 1,
   "metadata": {
    "collapsed": true
   },
   "outputs": [],
   "source": [
    "import itertools as it"
   ]
  },
  {
   "cell_type": "markdown",
   "metadata": {},
   "source": [
    "# Expanding generator functions\n",
    "---"
   ]
  },
  {
   "cell_type": "markdown",
   "metadata": {},
   "source": [
    "Some of the `itertools` functions create multiple outputs by expanding upon OR creating outputs based on the inputs"
   ]
  },
  {
   "cell_type": "markdown",
   "metadata": {},
   "source": [
    "## `itertools.count()`\n",
    "---"
   ]
  },
  {
   "cell_type": "code",
   "execution_count": 119,
   "metadata": {},
   "outputs": [
    {
     "name": "stdout",
     "output_type": "stream",
     "text": [
      "10\n",
      "11\n",
      "12\n",
      "13\n",
      "14\n",
      "15\n",
      "16\n",
      "17\n",
      "18\n",
      "19\n",
      "20\n",
      "21\n",
      "22\n",
      "23\n",
      "24\n",
      "25\n",
      "26\n"
     ]
    }
   ],
   "source": [
    "# count() is a bit tricky in that it will continue running forever\n",
    "#    unless you tell it to stop\n",
    "# \n",
    "# You can picture count() as being the much like a range() function\n",
    "#    that doesn't end.\n",
    "\n",
    "for num in it.count(10):\n",
    "    print(num)\n",
    "    if num > 25:\n",
    "        break"
   ]
  },
  {
   "cell_type": "code",
   "execution_count": 124,
   "metadata": {
    "collapsed": true
   },
   "outputs": [],
   "source": [
    "it.count?"
   ]
  },
  {
   "cell_type": "code",
   "execution_count": 135,
   "metadata": {},
   "outputs": [
    {
     "data": {
      "text/plain": [
       "itertools.count"
      ]
     },
     "execution_count": 135,
     "metadata": {},
     "output_type": "execute_result"
    }
   ],
   "source": [
    "type(it.count(10))"
   ]
  },
  {
   "cell_type": "code",
   "execution_count": 129,
   "metadata": {},
   "outputs": [
    {
     "name": "stdout",
     "output_type": "stream",
     "text": [
      "10\n",
      "15\n",
      "20\n",
      "25\n",
      "30\n",
      "35\n"
     ]
    }
   ],
   "source": [
    "# let's test this with a step value\n",
    "\n",
    "for num in it.count(10, 5):\n",
    "    print(num)\n",
    "    if num == 35:\n",
    "        break"
   ]
  },
  {
   "cell_type": "markdown",
   "metadata": {},
   "source": [
    "## NOTE: **`ctrl + c`** will break infinite loops"
   ]
  },
  {
   "cell_type": "markdown",
   "metadata": {},
   "source": [
    "## `itertools.cycle()`\n",
    "---"
   ]
  },
  {
   "cell_type": "code",
   "execution_count": 122,
   "metadata": {},
   "outputs": [
    {
     "name": "stdout",
     "output_type": "stream",
     "text": [
      "1\n",
      "2\n",
      "three\n",
      "4\n",
      "1\n",
      "2\n",
      "three\n",
      "4\n",
      "1\n",
      "2\n",
      "three\n",
      "4\n",
      "1\n",
      "2\n",
      "three\n",
      "4\n"
     ]
    }
   ],
   "source": [
    "# cycle() is also a bit tricky, in that it will also continue\n",
    "#     running forever\n",
    "# cycle() will iterate over a sequence endlessly, until stopped.\n",
    "# \n",
    "\n",
    "flag = 0\n",
    "for num in it.cycle([1, 2, 'three', 4]):\n",
    "    if flag > 15:\n",
    "        break\n",
    "    flag += 1    \n",
    "    print(num)"
   ]
  },
  {
   "cell_type": "code",
   "execution_count": 123,
   "metadata": {
    "collapsed": true
   },
   "outputs": [],
   "source": [
    "it.cycle?"
   ]
  },
  {
   "cell_type": "markdown",
   "metadata": {},
   "source": [
    "# Mapping generator functions\n",
    "---"
   ]
  },
  {
   "cell_type": "markdown",
   "metadata": {},
   "source": [
    "A number of the `itertools` functions map functions against inputs"
   ]
  },
  {
   "cell_type": "markdown",
   "metadata": {},
   "source": [
    "## `itertools.accumulate()`\n",
    "---"
   ]
  },
  {
   "cell_type": "code",
   "execution_count": 131,
   "metadata": {},
   "outputs": [
    {
     "name": "stdout",
     "output_type": "stream",
     "text": [
      "1\n",
      "3\n",
      "6\n",
      "10\n",
      "15\n",
      "21\n"
     ]
    }
   ],
   "source": [
    "# The accumulate() function defaults to taking the sum of the first two values\n",
    "#     and then adding that sum to the third value,\n",
    "#     and then adding that sum to the fourth value, and so on...\n",
    "\n",
    "for num in it.accumulate([1, 2, 3, 4, 5, 6]):\n",
    "    print(num)"
   ]
  },
  {
   "cell_type": "code",
   "execution_count": 148,
   "metadata": {},
   "outputs": [
    {
     "data": {
      "text/plain": [
       "[1, 3, 6, 10, 15, 21]"
      ]
     },
     "execution_count": 148,
     "metadata": {},
     "output_type": "execute_result"
    }
   ],
   "source": [
    "# Iterators are designed to produce a single value at a time\n",
    "# \n",
    "# The itertools library produces iterators ... this saves memory\n",
    "#\n",
    "# Needless to say, on occasion it is desireable to produce \n",
    "#     all the values at once: tools like the list() factory\n",
    "#     function will cycle through the iterator to generate\n",
    "#     all the values\n",
    "\n",
    "list(it.accumulate([1, 2, 3, 4, 5, 6]))"
   ]
  },
  {
   "cell_type": "code",
   "execution_count": 143,
   "metadata": {},
   "outputs": [
    {
     "data": {
      "text/plain": [
       "[1, 2, 6, 24, 120, 720]"
      ]
     },
     "execution_count": 143,
     "metadata": {},
     "output_type": "execute_result"
    }
   ],
   "source": [
    "# While the accumulate() function defaults to a simple cummulative sum(), \n",
    "#     it is possible to apply other functions, as well\n",
    "#\n",
    "# The operator library includes a series of functions that \n",
    "#     mirror the standard operators, such as:\n",
    "#     '+'   >>> operator.add()\n",
    "#     '*'   >>> operator.mul()\n",
    "#     '-'   >>> operator.sub()\n",
    "#     '**'  >>> operator.pow() \n",
    "\n",
    "import operator \n",
    "\n",
    "list(it.accumulate([1, 2, 3, 4, 5, 6], operator.mul))"
   ]
  },
  {
   "cell_type": "code",
   "execution_count": 145,
   "metadata": {},
   "outputs": [
    {
     "data": {
      "text/plain": [
       "[2, 8, 4096, 1152921504606846976]"
      ]
     },
     "execution_count": 145,
     "metadata": {},
     "output_type": "execute_result"
    }
   ],
   "source": [
    "import operator \n",
    "\n",
    "list(it.accumulate([2, 3, 4, 5], operator.pow))"
   ]
  },
  {
   "cell_type": "code",
   "execution_count": 149,
   "metadata": {},
   "outputs": [
    {
     "data": {
      "text/plain": [
       "['a',\n",
       " 'abb',\n",
       " 'abbccc',\n",
       " 'abbcccdddd',\n",
       " 'abbcccddddeeeee',\n",
       " 'abbcccddddeeeeeffffff']"
      ]
     },
     "execution_count": 149,
     "metadata": {},
     "output_type": "execute_result"
    }
   ],
   "source": [
    "# Note, this conversation is not intended to cover all the\n",
    "#     nuances of the operator module, there are other\n",
    "#     types of functions, such as the concat() OR concatenate \n",
    "#     function\n",
    "\n",
    "import operator \n",
    "\n",
    "list(it.accumulate(['a', 'bb', 'ccc', 'dddd', 'eeeee', 'ffffff'], operator.concat))"
   ]
  },
  {
   "cell_type": "code",
   "execution_count": 151,
   "metadata": {},
   "outputs": [
    {
     "data": {
      "text/plain": [
       "[5, 4, 3, 2, 1, 1, 1, 1, 1, 1, 1, 1]"
      ]
     },
     "execution_count": 151,
     "metadata": {},
     "output_type": "execute_result"
    }
   ],
   "source": [
    "# many other functions may be used in the accumulate function\n",
    "# such as min() OR max()\n",
    "\n",
    "list(it.accumulate([5, 4, 3, 2, 1, 3, 4, 5, 3, 13, 42, 5], min))"
   ]
  },
  {
   "cell_type": "code",
   "execution_count": 153,
   "metadata": {},
   "outputs": [
    {
     "data": {
      "text/plain": [
       "[1, 2, 3, 4, 5, 5, 13, 42, 42, 42, 42, 42, 42]"
      ]
     },
     "execution_count": 153,
     "metadata": {},
     "output_type": "execute_result"
    }
   ],
   "source": [
    "list(it.accumulate([1, 2, 3, 4, 5, 3, 13, 42, 5, 4, 3, 2, 1], max))"
   ]
  },
  {
   "cell_type": "markdown",
   "metadata": {},
   "source": [
    "# Merging generator functions\n",
    "---"
   ]
  },
  {
   "cell_type": "markdown",
   "metadata": {},
   "source": [
    "## `itertools.chain()`\n",
    "---"
   ]
  },
  {
   "cell_type": "code",
   "execution_count": 154,
   "metadata": {},
   "outputs": [
    {
     "data": {
      "text/plain": [
       "[1, 2, 3, 97, 98, 99]"
      ]
     },
     "execution_count": 154,
     "metadata": {},
     "output_type": "execute_result"
    }
   ],
   "source": [
    "# The chain function concatenates sequences\n",
    "\n",
    "chain1 = it.chain([1, 2, 3], [97, 98, 99])\n",
    "list(chain1)"
   ]
  },
  {
   "cell_type": "code",
   "execution_count": 25,
   "metadata": {},
   "outputs": [
    {
     "data": {
      "text/plain": [
       "[1, 2, 3, 97, 98, 99, 0, 1, 2, 3, 4, 5, 6, 7, 8, 9, 10, 11, 12, 13, 14]"
      ]
     },
     "execution_count": 25,
     "metadata": {},
     "output_type": "execute_result"
    }
   ],
   "source": [
    "# You can chain() the content of disparate objects, such as:\n",
    "#     lists\n",
    "#     sets\n",
    "#     range objects\n",
    "# You may chain() more than two sequences at a time, as well\n",
    "\n",
    "\n",
    "chain2 = it.chain([1, 2, 3], (97, 98, 99), range(15))\n",
    "list(chain2)"
   ]
  },
  {
   "cell_type": "markdown",
   "metadata": {},
   "source": [
    "## `itertools.zip_longest()`\n",
    "---"
   ]
  },
  {
   "cell_type": "code",
   "execution_count": 157,
   "metadata": {},
   "outputs": [
    {
     "data": {
      "text/plain": [
       "[(1, 11), (2, 22), (3, 33), (4, 44)]"
      ]
     },
     "execution_count": 157,
     "metadata": {},
     "output_type": "execute_result"
    }
   ],
   "source": [
    "# There is a built-in function that zippers sequences together\n",
    "# \n",
    "# zip() pairs the first element with the first element\n",
    "#             the second element with the second element\n",
    "#             the third with the third and so on...\n",
    "#             until the shortest sequences is exhausted\n",
    "\n",
    "list(zip([1, 2, 3, 4, 42, 42, 42, 42], [11, 22, 33, 44]))"
   ]
  },
  {
   "cell_type": "code",
   "execution_count": 158,
   "metadata": {},
   "outputs": [
    {
     "data": {
      "text/plain": [
       "[(1, 11),\n",
       " (2, 22),\n",
       " (3, 33),\n",
       " (4, 44),\n",
       " (42, None),\n",
       " (42, None),\n",
       " (42, None),\n",
       " (42, None)]"
      ]
     },
     "execution_count": 158,
     "metadata": {},
     "output_type": "execute_result"
    }
   ],
   "source": [
    "# itertools has a function called zip_longest that\n",
    "#     fills in empty elements with a default once\n",
    "#     the shortest sequence is exhausted....\n",
    "\n",
    "list(it.zip_longest([1, 2, 3, 4, 42, 42, 42, 42], [11, 22, 33, 44]))"
   ]
  },
  {
   "cell_type": "code",
   "execution_count": 159,
   "metadata": {},
   "outputs": [
    {
     "data": {
      "text/plain": [
       "[(1, 11),\n",
       " (2, 22),\n",
       " (3, 33),\n",
       " (4, 44),\n",
       " (42, 9000),\n",
       " (42, 9000),\n",
       " (42, 9000),\n",
       " (42, 9000)]"
      ]
     },
     "execution_count": 159,
     "metadata": {},
     "output_type": "execute_result"
    }
   ],
   "source": [
    "# The zip_longest() function allows us to apply a default\n",
    "#     fill value...\n",
    "\n",
    "list(it.zip_longest([1, 2, 3, 4, 42, 42, 42, 42], [11, 22, 33, 44], fillvalue=9000))"
   ]
  },
  {
   "cell_type": "markdown",
   "metadata": {},
   "source": [
    "# Reorganizing generator functions\n",
    "---"
   ]
  },
  {
   "cell_type": "markdown",
   "metadata": {},
   "source": [
    "## `itertools.groupby()`\n",
    "---"
   ]
  },
  {
   "cell_type": "code",
   "execution_count": 77,
   "metadata": {},
   "outputs": [
    {
     "name": "stdout",
     "output_type": "stream",
     "text": [
      "('P', <itertools._grouper object at 0x1051f9b00>)\n",
      "('Y', <itertools._grouper object at 0x1050b6da0>)\n",
      "('T', <itertools._grouper object at 0x1050b6f98>)\n",
      "('H', <itertools._grouper object at 0x1051f9b00>)\n",
      "('O', <itertools._grouper object at 0x1051f94e0>)\n",
      "('N', <itertools._grouper object at 0x1051f94a8>)\n"
     ]
    }
   ],
   "source": [
    "# the items listed for grouping must be sorted into the desired\n",
    "#     order (even if that order is not truly sorted lexigraphically).\n",
    "\n",
    "for item in it.groupby('PPYYYYTTTTTHHHHHHONNNNN'):\n",
    "    print(item)"
   ]
  },
  {
   "cell_type": "code",
   "execution_count": 75,
   "metadata": {},
   "outputs": [
    {
     "name": "stdout",
     "output_type": "stream",
     "text": [
      "P ['P', 'P']\n",
      "Y ['Y', 'Y', 'Y', 'Y']\n",
      "T ['T', 'T', 'T', 'T', 'T']\n",
      "H ['H', 'H', 'H', 'H', 'H', 'H']\n",
      "O ['O']\n",
      "N ['N', 'N', 'N', 'N', 'N']\n"
     ]
    }
   ],
   "source": [
    "# each group is an iterable\n",
    "#     we will examine the contents with list()\n",
    "\n",
    "for item, group in it.groupby('PPYYYYTTTTTHHHHHHONNNNN'):\n",
    "    print(item, list(group))"
   ]
  },
  {
   "cell_type": "code",
   "execution_count": 82,
   "metadata": {},
   "outputs": [
    {
     "name": "stdout",
     "output_type": "stream",
     "text": [
      "1 [1, 1, 1]\n",
      "2 [2, 2, 2]\n",
      "3 [3, 3, 3]\n",
      "4 [4, 4]\n",
      "5 [5]\n"
     ]
    }
   ],
   "source": [
    "# if the item you want to group is not sorted, it may be possible\n",
    "#     to use the sorted() function to sort the contents\n",
    "\n",
    "for item, group in it.groupby(sorted([1, 2, 3, 4, 5, 1, 2, 3, 1, 2, 3, 4])):\n",
    "    print(item, list(group))"
   ]
  },
  {
   "cell_type": "markdown",
   "metadata": {
    "collapsed": true
   },
   "source": [
    "# Filtering generator functions\n",
    "---"
   ]
  },
  {
   "cell_type": "markdown",
   "metadata": {},
   "source": [
    "## `itertools.filterfalse()`\n",
    "---"
   ]
  },
  {
   "cell_type": "code",
   "execution_count": 87,
   "metadata": {},
   "outputs": [
    {
     "data": {
      "text/plain": [
       "['abde', 'asdef']"
      ]
     },
     "execution_count": 87,
     "metadata": {},
     "output_type": "execute_result"
    }
   ],
   "source": [
    "# filterfalse drops items for which the predicate equivocates to True\n",
    "#    i.e. it filters for items that are False\n",
    "\n",
    "ff = it.filterfalse(lambda a: len(a) == 3, ['abc', 'abd', 'abde', 'asdef'])\n",
    "list(ff)"
   ]
  },
  {
   "cell_type": "markdown",
   "metadata": {},
   "source": [
    "## `itertools.islice()`\n",
    "---"
   ]
  },
  {
   "cell_type": "code",
   "execution_count": 91,
   "metadata": {},
   "outputs": [
    {
     "data": {
      "text/plain": [
       "<itertools.islice at 0x105286818>"
      ]
     },
     "execution_count": 91,
     "metadata": {},
     "output_type": "execute_result"
    }
   ],
   "source": [
    "it.islice([0, 11, 22, 33, 44, 55, 66], 2)"
   ]
  },
  {
   "cell_type": "code",
   "execution_count": 88,
   "metadata": {},
   "outputs": [
    {
     "data": {
      "text/plain": [
       "[0, 11]"
      ]
     },
     "execution_count": 88,
     "metadata": {},
     "output_type": "execute_result"
    }
   ],
   "source": [
    "list(it.islice([0, 11, 22, 33, 44, 55, 66], 2))"
   ]
  },
  {
   "cell_type": "code",
   "execution_count": 89,
   "metadata": {},
   "outputs": [
    {
     "data": {
      "text/plain": [
       "[22, 33]"
      ]
     },
     "execution_count": 89,
     "metadata": {},
     "output_type": "execute_result"
    }
   ],
   "source": [
    "list(it.islice([0, 11, 22, 33, 44, 55, 66], 2, 4))"
   ]
  },
  {
   "cell_type": "code",
   "execution_count": 95,
   "metadata": {},
   "outputs": [
    {
     "data": {
      "text/plain": [
       "[22, 42, 66]"
      ]
     },
     "execution_count": 95,
     "metadata": {},
     "output_type": "execute_result"
    }
   ],
   "source": [
    "list(it.islice([0, 11, 22, 33, 42, 55, 66], 2, None, 2))"
   ]
  },
  {
   "cell_type": "code",
   "execution_count": 94,
   "metadata": {},
   "outputs": [
    {
     "data": {
      "text/plain": [
       "['c', 'f', 'i', 'l', 'o', 'r', 'u', 'z']"
      ]
     },
     "execution_count": 94,
     "metadata": {},
     "output_type": "execute_result"
    }
   ],
   "source": [
    "list(it.islice('abcdefghijklmnopqrstuvwzyz', 2, None, 3))"
   ]
  },
  {
   "cell_type": "markdown",
   "metadata": {},
   "source": [
    "## `itertools.dropwhile()`\n",
    "---"
   ]
  },
  {
   "cell_type": "code",
   "execution_count": 106,
   "metadata": {},
   "outputs": [
    {
     "data": {
      "text/plain": [
       "['e', 'g', 'h', 'i', 'j']"
      ]
     },
     "execution_count": 106,
     "metadata": {},
     "output_type": "execute_result"
    }
   ],
   "source": [
    "list(it.dropwhile(lambda x: x not in 'aeiou', ['b', 'c', 'd', 'e', 'g', 'h', 'i', 'j']))"
   ]
  },
  {
   "cell_type": "code",
   "execution_count": 105,
   "metadata": {},
   "outputs": [
    {
     "data": {
      "text/plain": [
       "[4, 5, 6, 7]"
      ]
     },
     "execution_count": 105,
     "metadata": {},
     "output_type": "execute_result"
    }
   ],
   "source": [
    "list(it.dropwhile(lambda x: x < 4, [1, 2, 3, 4, 5, 6, 7]))"
   ]
  },
  {
   "cell_type": "code",
   "execution_count": 164,
   "metadata": {},
   "outputs": [
    {
     "data": {
      "text/plain": [
       "['b', 'c', 'd', 'e', 'g', 'h', 'i', 'j']"
      ]
     },
     "execution_count": 164,
     "metadata": {},
     "output_type": "execute_result"
    }
   ],
   "source": [
    "def v(ltr):\n",
    "    if ltr not in 'aeiou':\n",
    "        return False\n",
    "    return True\n",
    "\n",
    "list(it.dropwhile(v, ['b', 'c', 'd', 'e', 'g', 'h', 'i', 'j']))"
   ]
  },
  {
   "cell_type": "markdown",
   "metadata": {},
   "source": [
    "## `itertools.takewhile()`\n",
    "---"
   ]
  },
  {
   "cell_type": "code",
   "execution_count": 108,
   "metadata": {},
   "outputs": [
    {
     "data": {
      "text/plain": [
       "['a', 'e', 'e', 'a']"
      ]
     },
     "execution_count": 108,
     "metadata": {},
     "output_type": "execute_result"
    }
   ],
   "source": [
    "list(it.takewhile(lambda x: x in 'aeiou', ['a', 'e', 'e', 'a', 'b', 'c', 'd', 'e', 'g', 'h', 'i', 'j']))"
   ]
  },
  {
   "cell_type": "code",
   "execution_count": 109,
   "metadata": {},
   "outputs": [
    {
     "data": {
      "text/plain": [
       "[2, 4, 6, 8, 10, 12]"
      ]
     },
     "execution_count": 109,
     "metadata": {},
     "output_type": "execute_result"
    }
   ],
   "source": [
    "list(it.takewhile(lambda x: x < 13, [2, 4, 6, 8, 10, 12, 14, 16, 18]))"
   ]
  },
  {
   "cell_type": "code",
   "execution_count": 111,
   "metadata": {},
   "outputs": [
    {
     "data": {
      "text/plain": [
       "['i', 'o', 'u', 'e', 'a']"
      ]
     },
     "execution_count": 111,
     "metadata": {},
     "output_type": "execute_result"
    }
   ],
   "source": [
    "def v(ltr):\n",
    "    if ltr in 'aeiou':\n",
    "        return True\n",
    "    return False\n",
    "\n",
    "list(it.takewhile(v, ['i', 'o', 'u', 'e', 'a', 'c', 'd', 'e', 'g', 'h', 'i', 'j']))"
   ]
  },
  {
   "cell_type": "markdown",
   "metadata": {},
   "source": [
    "## `itertools.*`\n",
    "---"
   ]
  },
  {
   "cell_type": "markdown",
   "metadata": {},
   "source": [
    "There are other functions in the itertools stable. Exploring them is left as an exercise for the student.\n",
    "\n",
    "* accumulate\n",
    "* chain\n",
    "* **combinations**\n",
    "* **combinations_with_replacement** \n",
    "* **compress**\n",
    "* count\n",
    "* cycle\n",
    "* dropwhile\n",
    "* filterfalse\n",
    "* groupby\n",
    "* islice\n",
    "* **product**\n",
    "* **repeat**\n",
    "* **starmap**\n",
    "* takewhile\n",
    "* **tee**\n",
    "* zip_longest"
   ]
  },
  {
   "cell_type": "markdown",
   "metadata": {},
   "source": [
    "# Resources\n",
    "---"
   ]
  },
  {
   "cell_type": "markdown",
   "metadata": {},
   "source": [
    "\n",
    "\n",
    "[https://pymotw.com/3/itertools/](https://pymotw.com/3/itertools/)\n",
    "\n",
    "[https://docs.python.org/3/library/itertools.html](https://docs.python.org/3/library/itertools.html)\n",
    "\n",
    "[https://www.blog.pythonlibrary.org/2016/04/20/python-201-an-intro-to-itertools/](https://www.blog.pythonlibrary.org/2016/04/20/python-201-an-intro-to-itertools/)"
   ]
  },
  {
   "cell_type": "code",
   "execution_count": null,
   "metadata": {
    "collapsed": true
   },
   "outputs": [],
   "source": []
  },
  {
   "cell_type": "code",
   "execution_count": null,
   "metadata": {
    "collapsed": true
   },
   "outputs": [],
   "source": []
  },
  {
   "cell_type": "code",
   "execution_count": null,
   "metadata": {
    "collapsed": true
   },
   "outputs": [],
   "source": []
  },
  {
   "cell_type": "code",
   "execution_count": null,
   "metadata": {
    "collapsed": true
   },
   "outputs": [],
   "source": []
  }
 ],
 "metadata": {
  "kernelspec": {
   "display_name": "Python 3",
   "language": "python",
   "name": "python3"
  },
  "language_info": {
   "codemirror_mode": {
    "name": "ipython",
    "version": 3
   },
   "file_extension": ".py",
   "mimetype": "text/x-python",
   "name": "python",
   "nbconvert_exporter": "python",
   "pygments_lexer": "ipython3",
   "version": "3.6.1"
  }
 },
 "nbformat": 4,
 "nbformat_minor": 2
}
